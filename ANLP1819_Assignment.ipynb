{
 "cells": [
  {
   "cell_type": "markdown",
   "metadata": {},
   "source": [
    "# Applied NLP Assessed Coursework\n",
    "\n",
    "---\n",
    "\n",
    "For this assessment, you are expected to complete and submit this notebook file. \n",
    "Marking guidelines are provided as a separate document and you should read this carefully."
   ]
  },
  {
   "cell_type": "markdown",
   "metadata": {},
   "source": [
    "## Important Information\n",
    "\n",
    "**Individual assessment:**  \n",
    "As this is assessed work, you should not talk about solutions to the coursework questions with your peers.  If you are not sure what a question is asking you to do or have any other questions, then please ask me for clarification.\n",
    "\n",
    "**Due date:**  \n",
    "Your notebook should be submitted via Canvas, before 4pm on Thursday 29th November. The standard penalties will apply to any work submitted after the deadline.\n",
    "\n",
    "**Submission format:**  \n",
    "You should submit just one file that should be a Jupyter notebook.\n",
    "\n",
    "**Weighting:**  \n",
    "This assessment contributes 50% of the mark for the module.\n",
    "\n",
    "**Word limit:**  \n",
    "Your written answers in the Jupyter notebook should contain no more than 3000 words. Please be aware that standard penalties apply for deviations from this limit. You *must* specify the number of words in your report.\n",
    "\n",
    "---"
   ]
  },
  {
   "cell_type": "markdown",
   "metadata": {},
   "source": [
    "**Report Wordcount:** ???? words"
   ]
  },
  {
   "cell_type": "markdown",
   "metadata": {},
   "source": [
    "## Generating A Unique Dataset\n",
    "Some of the questions will require you to work with a sample of the Amazon Review Corpus data. In order to provide you with a unique dataset for analysis, you must enter your own candidate number in the following cell."
   ]
  },
  {
   "cell_type": "code",
   "execution_count": 1,
   "metadata": {},
   "outputs": [],
   "source": [
    "candidateno = 196980 "
   ]
  },
  {
   "cell_type": "code",
   "execution_count": 25,
   "metadata": {},
   "outputs": [
    {
     "name": "stdout",
     "output_type": "stream",
     "text": [
      "[nltk_data] Downloading package punkt to\n",
      "[nltk_data]     C:\\Users\\Andreas\\AppData\\Roaming\\nltk_data...\n",
      "[nltk_data]   Package punkt is already up-to-date!\n",
      "[nltk_data] Downloading package stopwords to\n",
      "[nltk_data]     C:\\Users\\Andreas\\AppData\\Roaming\\nltk_data...\n",
      "[nltk_data]   Package stopwords is already up-to-date!\n",
      "[nltk_data] Downloading package wordnet to\n",
      "[nltk_data]     C:\\Users\\Andreas\\AppData\\Roaming\\nltk_data...\n",
      "[nltk_data]   Package wordnet is already up-to-date!\n",
      "[nltk_data] Downloading package semcor to\n",
      "[nltk_data]     C:\\Users\\Andreas\\AppData\\Roaming\\nltk_data...\n",
      "[nltk_data]   Package semcor is already up-to-date!\n"
     ]
    }
   ],
   "source": [
    "#preliminary imports\n",
    "import sys\n",
    "#sys.path.append(r'\\\\ad.susx.ac.uk\\ITS\\TeachingResources\\Departments\\Informatics\\LanguageEngineering\\resources')\n",
    "sys.path.append('C:/Users/Andreas/Desktop/ANLP/resources/resources')\n",
    "import re\n",
    "import pandas as pd\n",
    "import matplotlib.pyplot as plt\n",
    "%matplotlib inline\n",
    "from itertools import zip_longest\n",
    "from nltk.tokenize import word_tokenize\n",
    "from sussex_nltk.corpus_readers import AmazonReviewCorpusReader\n",
    "from IPython.display import display\n",
    "import random\n",
    "import nltk\n",
    "nltk.download('punkt')\n",
    "nltk.download('stopwords')\n",
    "nltk.download('wordnet')\n",
    "nltk.download('semcor')\n",
    "from sussex_nltk.stats import evaluate_wordlist_classifier \n",
    "from nltk.corpus import stopwords\n",
    "from classification_utils import *\n",
    "import numpy as np\n",
    "import math\n",
    "from topic3 import *\n",
    "from scipy import stats"
   ]
  },
  {
   "cell_type": "markdown",
   "metadata": {},
   "source": [
    "## Question 1: Document Classification (35 marks)\n",
    "\n",
    "This question is concerned with classifier performance on a document classification task. What is the relative performance of the word list and Naïve Bayes classifiers, and why?  Does more training data mean better performance?  Is performance degraded if we train on one domain and test on another domain? \n",
    "\n",
    "The question consists of three parts, each of which relates to the exercises from Lab Topic 4 Part 1: *Further Document Classification.* "
   ]
  },
  {
   "cell_type": "markdown",
   "metadata": {},
   "source": [
    "(a) You will have observed differences in accuracy between the wordlist classifier performance and the Naïve Bayes classifier performance. Describe what you observed, and by looking at classifier performance on a sample of product reviews (it is up to you to decide how many), discuss the reasons behind the differences in performance of the methods being compared. \\[10 marks\\]"
   ]
  },
  {
   "cell_type": "code",
   "execution_count": 3,
   "metadata": {},
   "outputs": [],
   "source": [
    "dvdReader = AmazonReviewCorpusReader().category(\"dvd\")\n",
    "Word_List = [] \n",
    "Naive_Bayes = []\n",
    "word_list_size = 100\n",
    "counter = 10 # number of runs\n",
    "trainPercentage = 0.7 # 70% for training and 30% for testing \n",
    "\n",
    "for i in range(counter):\n",
    "    posTrain,negTrain,posTest,negTest = get_train_test_data(dvdReader, trainPercentage)\n",
    "    Word_List.append(run_WL(pos_train, neg_train, pos_test, neg_test, word_list_size))\n",
    "    Naive_Bayes.append(run_NB(pos_train, neg_train, pos_test, neg_test))"
   ]
  },
  {
   "cell_type": "code",
   "execution_count": 4,
   "metadata": {},
   "outputs": [],
   "source": [
    "WordListMean = sum(Word_List)/counter\n",
    "NaiveBayesMean = sum(Naive_Bayes)/counter"
   ]
  },
  {
   "cell_type": "code",
   "execution_count": 5,
   "metadata": {},
   "outputs": [],
   "source": [
    "WordListSD = np.std(Word_List)\n",
    "NaiveBayesSD = np.std(Naive_Bayes)"
   ]
  },
  {
   "cell_type": "code",
   "execution_count": 6,
   "metadata": {},
   "outputs": [],
   "source": [
    "WordListSE = stats.sem(Word_List, axis = None, ddof = 0)\n",
    "NaiveBayesSE = stats.sem(Naive_Bayes, axis = None, ddof = 0)"
   ]
  },
  {
   "cell_type": "code",
   "execution_count": 7,
   "metadata": {},
   "outputs": [
    {
     "data": {
      "text/html": [
       "<div>\n",
       "<style scoped>\n",
       "    .dataframe tbody tr th:only-of-type {\n",
       "        vertical-align: middle;\n",
       "    }\n",
       "\n",
       "    .dataframe tbody tr th {\n",
       "        vertical-align: top;\n",
       "    }\n",
       "\n",
       "    .dataframe thead th {\n",
       "        text-align: right;\n",
       "    }\n",
       "</style>\n",
       "<table border=\"1\" class=\"dataframe\">\n",
       "  <thead>\n",
       "    <tr style=\"text-align: right;\">\n",
       "      <th></th>\n",
       "      <th>Classifiers</th>\n",
       "      <th>Mean</th>\n",
       "      <th>Standard Deviation</th>\n",
       "      <th>Standard Error</th>\n",
       "    </tr>\n",
       "  </thead>\n",
       "  <tbody>\n",
       "    <tr>\n",
       "      <th>0</th>\n",
       "      <td>Word List</td>\n",
       "      <td>0.6565</td>\n",
       "      <td>0.009471</td>\n",
       "      <td>0.002995</td>\n",
       "    </tr>\n",
       "    <tr>\n",
       "      <th>1</th>\n",
       "      <td>Naive Bayes</td>\n",
       "      <td>0.7945</td>\n",
       "      <td>0.001067</td>\n",
       "      <td>0.000337</td>\n",
       "    </tr>\n",
       "  </tbody>\n",
       "</table>\n",
       "</div>"
      ],
      "text/plain": [
       "   Classifiers    Mean  Standard Deviation  Standard Error\n",
       "0    Word List  0.6565            0.009471        0.002995\n",
       "1  Naive Bayes  0.7945            0.001067        0.000337"
      ]
     },
     "metadata": {},
     "output_type": "display_data"
    },
    {
     "data": {
      "text/plain": [
       "[Text(0,0.5,'%'), Text(0.5,0,'Classifier')]"
      ]
     },
     "execution_count": 7,
     "metadata": {},
     "output_type": "execute_result"
    },
    {
     "data": {
      "image/png": "[encoded data removed]",
      "text/plain": [
       "<Figure size 720x360 with 1 Axes>"
      ]
     },
     "metadata": {},
     "output_type": "display_data"
    }
   ],
   "source": [
    "df = pd.DataFrame([('Word List', WordListMean, WordListSD, WordListSE),('Naive Bayes', NaiveBayesMean, NaiveBayesSD, NaiveBayesSE)])\n",
    "df.columns = ['Classifiers', 'Mean', 'Standard Deviation', 'Standard Error']\n",
    "display(df)\n",
    "ax = df.plot.bar(title = 'Experimental Results on 10 runs', x = 0, rot = 0, figsize = (10,5))\n",
    "ax.set(xlabel = 'Classifier', ylabel = '%')"
   ]
  },
  {
   "cell_type": "markdown",
   "metadata": {},
   "source": [
    "## Code rundown\n",
    "The code cells above show how I have used the AmazonReviewCorpus to read reviews of category 'dvd' and then split into training and testing sets of 70% and 30% respectively. By using the data on 10 repetitions on both classifiers, i have computed the mean of each algorithm as well as the standard deviation and standard error to better understand the findings which were then plotted on a bar chart. \n",
    "\n",
    "\n",
    "## Word List\n",
    "Word List classifier works by taking two lists, one for positive words and one for negative words,for training and testing domains and the size that the words occurences must be above. The classifier then checks wether each word of the lists matches a list on the document and proceeds with accumulating the score with 1 when found and decreasing the score by 1 when it is not found. It also has a condition that if the number added to score is 0 to give a random prediction. \n",
    "\n",
    "## Naive Bayes\n",
    "Very differently, Naive Bayes uses bag of words instead of lists. Therefore the order of which the data came in the classifier is not concerned. It uses a probabilistic model to see which words match which classes of positive or negative words which first computes the prioris of each sentence and then works out the conditional probability which is the times that each word is in a given class divided by the total of all the words in a given class. It then multiplies all probabilities of each class and returns the class with the higher probability of the classes worked on. \n",
    "\n",
    "## Comparison & Findings\n",
    "As the bar chart shows, Naive Bayes produces more accurate results. This is subject to that Word List gives out random predictions when it can't find matches and is also subject to that Word List uses frequency rates. e.g.  A word that has 99 occurences when the frequency rate is 100, it will not be considered. These two main reasons show why Naive Bayes is the better classifier out of the two. As it can be seen from computing the Standard Deviation as well as the Standard Error on the bar chart, Naive Bayes has its data points closer to the mean rather than Word List and that data is less spread out on Naive Bayes. The standard error shows us that the sample mean of the data is closer to the true population mean on Naive Bayes even though the difference is very slight. "
   ]
  },
  {
   "cell_type": "markdown",
   "metadata": {},
   "source": [
    "(b) You have investigated the impact on classifier accuracy when the amount of training data is varied. Discuss your findings with regard to the Naïve Bayes classifier, and attempt to predict what the accuracy of the Naïve Bayes classifier would be if you massively increased the amount of training data. \\[10 marks\\]\n",
    "\n",
    "The code below is included to enable you to get pre-formatted training and test data for a given category (evenly split between positive and negative reviews). "
   ]
  },
  {
   "cell_type": "code",
   "execution_count": 8,
   "metadata": {},
   "outputs": [],
   "source": [
    "def split_data(data, ratio=0.7): # when the second argument is not given, it defaults to 0.7\n",
    "    \"\"\"\n",
    "    Given corpus generator and ratio:\n",
    "     - partitions the corpus into training data and test data, where the proportion in train is ratio,\n",
    "\n",
    "    :param data: A corpus generator.\n",
    "    :param ratio: The proportion of training documents (default 0.7)\n",
    "    :return: a pair (tuple) of lists where the first element of the \n",
    "            pair is a list of the training data and the second is a list of the test data.\n",
    "    \"\"\"\n",
    "    \n",
    "    data = list(data)  \n",
    "    n = len(data)  \n",
    "    train_indices = random.sample(range(n), int(n * ratio))          \n",
    "    test_indices = list(set(range(n)) - set(train_indices))    \n",
    "    train = [data[i] for i in train_indices]           \n",
    "    test = [data[i] for i in test_indices]             \n",
    "    return (train, test)                       \n",
    " \n",
    "\n",
    "def feature_extract(review):\n",
    "    \"\"\"\n",
    "    Generate a feature representation for a review\n",
    "    :param review: AmazonReview object\n",
    "    :return: dictionary of Boolean features\n",
    "    \"\"\"\n",
    "    return {word:True for word in review.words()}\n",
    "\n",
    "def get_training_test_data(category,ratio=0.7,seed=candidateno):\n",
    "    \"\"\"\n",
    "    Get training and test data for a given category and ratio, pre-formatted for use with NB classifier\n",
    "    :param category: category of review corpus, one of [\"kitchen, \"dvd, \"book\", \"electronics\"]\n",
    "    :param ratio: proportion of data to use as training data\n",
    "    :return: pair of lists \n",
    "    \"\"\"\n",
    "    reader=AmazonReviewCorpusReader().category(category)\n",
    "    random.seed(candidateno)\n",
    "    pos_train, pos_test = split_data(reader.positive().documents(),ratio=ratio)\n",
    "    neg_train, neg_test = split_data(reader.negative().documents(),ratio=ratio)\n",
    "    train_data=[(feature_extract(review),'P')for review in pos_train]+[(feature_extract(review),'N') for review in neg_train]\n",
    "    test_data=[(feature_extract(review),'P')for review in pos_test]+[(feature_extract(review),'N') for review in neg_test]\n",
    "    return train_data,test_data\n"
   ]
  },
  {
   "cell_type": "code",
   "execution_count": 9,
   "metadata": {},
   "outputs": [
    {
     "name": "stdout",
     "output_type": "stream",
     "text": [
      "Sample Size:  1\n",
      "Sample Size:  10\n",
      "Sample Size:  50\n",
      "Sample Size:  100\n",
      "Sample Size:  200\n",
      "Sample Size:  400\n",
      "Sample Size:  600\n",
      "Sample Size:  700\n"
     ]
    }
   ],
   "source": [
    "sample_sizes = [1, 10, 50, 100, 200, 400, 600, 700]\n",
    "\n",
    "dvdReader = AmazonReviewCorpusReader().category(\"dvd\")\n",
    "#Naive_Bayes_Sum = 0\n",
    "AccuracyNaiveBayes = []\n",
    "counter = 10 # number of runs \n",
    "\n",
    "for size in sample_sizes:\n",
    "    print(\"Sample Size: \", size)\n",
    "    Naive_Bayes_Sum = 0\n",
    "    for run in range(counter):\n",
    "        training,testing = get_training_test_data('dvd', trainPercentage, candidateno) #unique call\n",
    "        sampleOnTrain = sample(training,size)\n",
    "        Naive_Bayes_Sum += run_NB_preformatted(sampleOnTrain,testing)\n",
    "    AccuracyNaiveBayes.append(Naive_Bayes_Sum / counter)"
   ]
  },
  {
   "cell_type": "code",
   "execution_count": 10,
   "metadata": {},
   "outputs": [
    {
     "data": {
      "text/html": [
       "<div>\n",
       "<style scoped>\n",
       "    .dataframe tbody tr th:only-of-type {\n",
       "        vertical-align: middle;\n",
       "    }\n",
       "\n",
       "    .dataframe tbody tr th {\n",
       "        vertical-align: top;\n",
       "    }\n",
       "\n",
       "    .dataframe thead th {\n",
       "        text-align: right;\n",
       "    }\n",
       "</style>\n",
       "<table border=\"1\" class=\"dataframe\">\n",
       "  <thead>\n",
       "    <tr style=\"text-align: right;\">\n",
       "      <th></th>\n",
       "      <th>Sample Sizes</th>\n",
       "      <th>Naive Bayes Accuracy</th>\n",
       "    </tr>\n",
       "  </thead>\n",
       "  <tbody>\n",
       "    <tr>\n",
       "      <th>0</th>\n",
       "      <td>1</td>\n",
       "      <td>0.50</td>\n",
       "    </tr>\n",
       "    <tr>\n",
       "      <th>1</th>\n",
       "      <td>10</td>\n",
       "      <td>0.49</td>\n",
       "    </tr>\n",
       "    <tr>\n",
       "      <th>2</th>\n",
       "      <td>50</td>\n",
       "      <td>0.65</td>\n",
       "    </tr>\n",
       "    <tr>\n",
       "      <th>3</th>\n",
       "      <td>100</td>\n",
       "      <td>0.66</td>\n",
       "    </tr>\n",
       "    <tr>\n",
       "      <th>4</th>\n",
       "      <td>200</td>\n",
       "      <td>0.72</td>\n",
       "    </tr>\n",
       "    <tr>\n",
       "      <th>5</th>\n",
       "      <td>400</td>\n",
       "      <td>0.76</td>\n",
       "    </tr>\n",
       "    <tr>\n",
       "      <th>6</th>\n",
       "      <td>600</td>\n",
       "      <td>0.75</td>\n",
       "    </tr>\n",
       "    <tr>\n",
       "      <th>7</th>\n",
       "      <td>700</td>\n",
       "      <td>0.77</td>\n",
       "    </tr>\n",
       "  </tbody>\n",
       "</table>\n",
       "</div>"
      ],
      "text/plain": [
       "   Sample Sizes  Naive Bayes Accuracy\n",
       "0             1                  0.50\n",
       "1            10                  0.49\n",
       "2            50                  0.65\n",
       "3           100                  0.66\n",
       "4           200                  0.72\n",
       "5           400                  0.76\n",
       "6           600                  0.75\n",
       "7           700                  0.77"
      ]
     },
     "metadata": {},
     "output_type": "display_data"
    },
    {
     "data": {
      "text/plain": [
       "(0.1, 1.0)"
      ]
     },
     "execution_count": 10,
     "metadata": {},
     "output_type": "execute_result"
    },
    {
     "data": {
      "image/png": "[encoded data removed]",
      "text/plain": [
       "<Figure size 720x360 with 1 Axes>"
      ]
     },
     "metadata": {},
     "output_type": "display_data"
    }
   ],
   "source": [
    "pd.set_option('precision', 2)\n",
    "df = pd.DataFrame(list(zip(sample_sizes, AccuracyNaiveBayes)))\n",
    "df.columns = ['Sample Sizes', 'Naive Bayes Accuracy']\n",
    "display(df)\n",
    "ax = df.plot(title = 'Experimental Results on 10 runs', x = 0, rot = 0, figsize = (10,5))\n",
    "ax.set(ylabel = 'Accuracy',xlabel = 'Size')\n",
    "ax.set_ylim(0.1,1.0)"
   ]
  },
  {
   "cell_type": "markdown",
   "metadata": {},
   "source": [
    "## Code Rundown\n",
    "By defining a list of sample sizes to use further on with Naive Bayes classifier we can observe how the accuracy changes when the sample size increases. Using the AmazonReviewCorpus, the dvd category is used for our analysis. By using two nested for loops, one for the different sizes used and another nested for the number of repetitions to run, which 10 repetitions where chosen to be used as data is very staple after 10 repetitions, we can then call the Naive Bayes classifier to compute our results. After that the data is plotted so we can see the changes in accuracy versus size.\n",
    "\n",
    "## Findings\n",
    "As it can be seen from the plot above, the accuracy of the classifier increases as the sample size increases, it doesn't have linear growth however. The findings show that accuracy will not go to 100% as the change rate after a sample size of 400 is very low. However it will keep increasing in tiny amounts but it is unlikely that with the small number of data available it will reach 100%.\n",
    "\n",
    "Continuing on the matter, since it uses probability at each step, the accuracy increases while more data comes in meaning that even though change might not be big to the accuracy, it keeps on evolving as it is feeded data. The more data that is inputted to a Naive Bayes classifier, the better its accuracy is going to be thus it is a very good classifier model."
   ]
  },
  {
   "cell_type": "markdown",
   "metadata": {},
   "source": [
    "(c) You should now explore what happens to the accuracy of a Naïve Bayes classifier if you train the classifier on data from one domain (the source domain), but test on data from a different domain (the target domain). Investigate this issue using the 4 different domains (*book*, *dvd*, *electronics* and *kitchen*) from the Amazon Review Data. Note that this gives you *sixteen* different possibilities: 4 possible source domains x 4 possible target domains. Present your findings and try to explain what you observe. \\[15 marks \\]"
   ]
  },
  {
   "cell_type": "code",
   "execution_count": 11,
   "metadata": {},
   "outputs": [],
   "source": [
    "bookTest, bookTrain = get_training_test_data(\"book\",trainPercentage, candidateno)\n",
    "dvdTest, dvdTrain   = get_training_test_data(\"dvd\", trainPercentage, candidateno)\n",
    "electronicsTest, electronicsTrain = get_training_test_data(\"electronics\", trainPercentage, candidateno) \n",
    "kitchenTest, kitchenTrain  = get_training_test_data(\"kitchen\", trainPercentage, candidateno)\n",
    "source = {'book' : bookTrain,\n",
    "          'dvd' : dvdTrain,\n",
    "          'electronics' : electronicsTrain,\n",
    "          'kitchen' : kitchenTrain}\n",
    "target = {'book' : bookTest,\n",
    "          'dvd' : dvdTest,\n",
    "          'electronics' : electronicsTest,\n",
    "          'kitchen' : kitchenTest}\n",
    "\n",
    "allTogether = {}\n",
    "for i in source.keys():\n",
    "    allTogether[i]=[]\n",
    "    for j in target.keys():\n",
    "        allTogether[i].append((run_NB_preformatted(source[i],target[j])))"
   ]
  },
  {
   "cell_type": "code",
   "execution_count": 12,
   "metadata": {},
   "outputs": [
    {
     "data": {
      "text/html": [
       "<div>\n",
       "<style scoped>\n",
       "    .dataframe tbody tr th:only-of-type {\n",
       "        vertical-align: middle;\n",
       "    }\n",
       "\n",
       "    .dataframe tbody tr th {\n",
       "        vertical-align: top;\n",
       "    }\n",
       "\n",
       "    .dataframe thead th {\n",
       "        text-align: right;\n",
       "    }\n",
       "</style>\n",
       "<table border=\"1\" class=\"dataframe\">\n",
       "  <thead>\n",
       "    <tr style=\"text-align: right;\">\n",
       "      <th></th>\n",
       "      <th>book</th>\n",
       "      <th>dvd</th>\n",
       "      <th>electronics</th>\n",
       "      <th>kitchen</th>\n",
       "    </tr>\n",
       "  </thead>\n",
       "  <tbody>\n",
       "    <tr>\n",
       "      <th>book</th>\n",
       "      <td>0.73</td>\n",
       "      <td>0.69</td>\n",
       "      <td>0.66</td>\n",
       "      <td>0.64</td>\n",
       "    </tr>\n",
       "    <tr>\n",
       "      <th>dvd</th>\n",
       "      <td>0.70</td>\n",
       "      <td>0.74</td>\n",
       "      <td>0.69</td>\n",
       "      <td>0.67</td>\n",
       "    </tr>\n",
       "    <tr>\n",
       "      <th>electronics</th>\n",
       "      <td>0.62</td>\n",
       "      <td>0.62</td>\n",
       "      <td>0.78</td>\n",
       "      <td>0.74</td>\n",
       "    </tr>\n",
       "    <tr>\n",
       "      <th>kitchen</th>\n",
       "      <td>0.64</td>\n",
       "      <td>0.64</td>\n",
       "      <td>0.77</td>\n",
       "      <td>0.80</td>\n",
       "    </tr>\n",
       "  </tbody>\n",
       "</table>\n",
       "</div>"
      ],
      "text/plain": [
       "             book   dvd  electronics  kitchen\n",
       "book         0.73  0.69         0.66     0.64\n",
       "dvd          0.70  0.74         0.69     0.67\n",
       "electronics  0.62  0.62         0.78     0.74\n",
       "kitchen      0.64  0.64         0.77     0.80"
      ]
     },
     "metadata": {},
     "output_type": "display_data"
    },
    {
     "data": {
      "text/plain": [
       "Text(0,0.5,'%')"
      ]
     },
     "execution_count": 12,
     "metadata": {},
     "output_type": "execute_result"
    },
    {
     "data": {
      "image/png": "[encoded data removed]",
      "text/plain": [
       "<Figure size 1008x576 with 1 Axes>"
      ]
     },
     "metadata": {},
     "output_type": "display_data"
    }
   ],
   "source": [
    "columns = ['book', 'dvd', 'electronics', 'kitchen']\n",
    "df = pd.DataFrame(data = allTogether, index = columns , columns = columns)\n",
    "display(df)\n",
    "ax = df.plot.bar(title = 'Naive Bayes - Trained Data on source domain, test on target domain, 4x4 possibilities', rot = 0, figsize = (14,8), legend = True, fontsize = 15)\n",
    "ax.set_xlabel('Review domain', fontsize = 15)\n",
    "ax.set_ylabel('%', fontsize = 15)"
   ]
  },
  {
   "cell_type": "markdown",
   "metadata": {},
   "source": [
    "### Finding correlation between Review domains through most used words on each domain"
   ]
  },
  {
   "cell_type": "markdown",
   "metadata": {},
   "source": [
    "As it can be seen through the bar chart plotted above, the combination of book and dvd have the highest percentages of similarity between them and so does the combination of electronics and kitchen. Having that in mind, we will try and understand why that came to be by outputting the most used words from each domain. Ideally we will only look through positive reviews to find our similarities."
   ]
  },
  {
   "cell_type": "code",
   "execution_count": 13,
   "metadata": {},
   "outputs": [],
   "source": [
    "from nltk.corpus import stopwords\n",
    "stopwords = stopwords.words('english')\n",
    "\n",
    "bookReader = AmazonReviewCorpusReader().category('book')\n",
    "bookPosTrain, bookNegTrain, bookPosTest, bookNegTest = get_train_test_data(bookReader, trainPercentage)\n",
    "\n",
    "dvdReader = AmazonReviewCorpusReader().category('dvd')\n",
    "dvdPosTrain, dvdNegTrain, dvdPosTest, dvdNegTest = get_train_test_data(dvdReader, trainPercentage)\n",
    "\n",
    "#positive\n",
    "positiveBook = bookPosTrain + bookPosTest\n",
    "positiveDvd = dvdPosTrain + dvdPosTest\n",
    "\n",
    "pBook = get_all_words(positiveBook)\n",
    "pDvd = get_all_words(positiveDvd)\n",
    "\n",
    "book_filtered_pos_words = [w.lower() for w in pBook if w.isalpha() and w.lower() not in stopwords]\n",
    "dvd_filtered_pos_words = [w.lower() for w in pDvd if w.isalpha() and w.lower() not in stopwords]\n",
    "\n",
    "book_pos_freqdist = FreqDist(book_filtered_pos_words)\n",
    "dvd_pos_freqdist = FreqDist(dvd_filtered_pos_words)\n",
    "\n",
    "bookPosFinal = book_pos_freqdist.most_common(10)\n",
    "dvdPosFinal = dvd_pos_freqdist.most_common(10)\n",
    "\n",
    "#negative\n",
    "\n",
    "negativeBook = bookNegTrain + bookNegTest\n",
    "negativeDvd = dvdNegTrain + dvdNegTest\n",
    "\n",
    "nBook = get_all_words(negativeBook)\n",
    "nDvd = get_all_words(negativeDvd)\n",
    "\n",
    "book_filtered_neg_words = [w.lower() for w in nBook if w.isalpha() and w.lower() not in stopwords]\n",
    "dvd_filtered_neg_words = [w.lower() for w in nDvd if w.isalpha() and w.lower() not in stopwords]\n",
    "\n",
    "book_neg_freqdist = FreqDist(book_filtered_neg_words)\n",
    "dvd_neg_freqdist = FreqDist(dvd_filtered_neg_words)\n",
    "\n",
    "bookNegFinal = book_neg_freqdist.most_common(10)\n",
    "dvdNegFinal = dvd_neg_freqdist.most_common(10)"
   ]
  },
  {
   "cell_type": "code",
   "execution_count": 14,
   "metadata": {},
   "outputs": [
    {
     "data": {
      "text/html": [
       "<div>\n",
       "<style scoped>\n",
       "    .dataframe tbody tr th:only-of-type {\n",
       "        vertical-align: middle;\n",
       "    }\n",
       "\n",
       "    .dataframe tbody tr th {\n",
       "        vertical-align: top;\n",
       "    }\n",
       "\n",
       "    .dataframe thead th {\n",
       "        text-align: right;\n",
       "    }\n",
       "</style>\n",
       "<table border=\"1\" class=\"dataframe\">\n",
       "  <thead>\n",
       "    <tr style=\"text-align: right;\">\n",
       "      <th></th>\n",
       "      <th>book Pos</th>\n",
       "      <th>book Neg</th>\n",
       "      <th>dvd Pos</th>\n",
       "      <th>dvd Neg</th>\n",
       "    </tr>\n",
       "  </thead>\n",
       "  <tbody>\n",
       "    <tr>\n",
       "      <th>0</th>\n",
       "      <td>(book, 1995)</td>\n",
       "      <td>(book, 2240)</td>\n",
       "      <td>(movie, 1029)</td>\n",
       "      <td>(movie, 1261)</td>\n",
       "    </tr>\n",
       "    <tr>\n",
       "      <th>1</th>\n",
       "      <td>(one, 677)</td>\n",
       "      <td>(one, 718)</td>\n",
       "      <td>(film, 896)</td>\n",
       "      <td>(film, 811)</td>\n",
       "    </tr>\n",
       "    <tr>\n",
       "      <th>2</th>\n",
       "      <td>(read, 640)</td>\n",
       "      <td>(read, 647)</td>\n",
       "      <td>(one, 799)</td>\n",
       "      <td>(one, 670)</td>\n",
       "    </tr>\n",
       "    <tr>\n",
       "      <th>3</th>\n",
       "      <td>(like, 374)</td>\n",
       "      <td>(would, 525)</td>\n",
       "      <td>(like, 477)</td>\n",
       "      <td>(like, 603)</td>\n",
       "    </tr>\n",
       "    <tr>\n",
       "      <th>4</th>\n",
       "      <td>(would, 358)</td>\n",
       "      <td>(like, 516)</td>\n",
       "      <td>(great, 470)</td>\n",
       "      <td>(dvd, 455)</td>\n",
       "    </tr>\n",
       "    <tr>\n",
       "      <th>5</th>\n",
       "      <td>(story, 336)</td>\n",
       "      <td>(much, 381)</td>\n",
       "      <td>(dvd, 454)</td>\n",
       "      <td>(would, 440)</td>\n",
       "    </tr>\n",
       "    <tr>\n",
       "      <th>6</th>\n",
       "      <td>(many, 333)</td>\n",
       "      <td>(books, 374)</td>\n",
       "      <td>(good, 402)</td>\n",
       "      <td>(good, 415)</td>\n",
       "    </tr>\n",
       "    <tr>\n",
       "      <th>7</th>\n",
       "      <td>(time, 323)</td>\n",
       "      <td>(good, 342)</td>\n",
       "      <td>(well, 343)</td>\n",
       "      <td>(even, 348)</td>\n",
       "    </tr>\n",
       "    <tr>\n",
       "      <th>8</th>\n",
       "      <td>(good, 301)</td>\n",
       "      <td>(even, 327)</td>\n",
       "      <td>(time, 326)</td>\n",
       "      <td>(get, 332)</td>\n",
       "    </tr>\n",
       "    <tr>\n",
       "      <th>9</th>\n",
       "      <td>(also, 298)</td>\n",
       "      <td>(time, 325)</td>\n",
       "      <td>(first, 313)</td>\n",
       "      <td>(really, 320)</td>\n",
       "    </tr>\n",
       "  </tbody>\n",
       "</table>\n",
       "</div>"
      ],
      "text/plain": [
       "       book Pos      book Neg        dvd Pos        dvd Neg\n",
       "0  (book, 1995)  (book, 2240)  (movie, 1029)  (movie, 1261)\n",
       "1    (one, 677)    (one, 718)    (film, 896)    (film, 811)\n",
       "2   (read, 640)   (read, 647)     (one, 799)     (one, 670)\n",
       "3   (like, 374)  (would, 525)    (like, 477)    (like, 603)\n",
       "4  (would, 358)   (like, 516)   (great, 470)     (dvd, 455)\n",
       "5  (story, 336)   (much, 381)     (dvd, 454)   (would, 440)\n",
       "6   (many, 333)  (books, 374)    (good, 402)    (good, 415)\n",
       "7   (time, 323)   (good, 342)    (well, 343)    (even, 348)\n",
       "8   (good, 301)   (even, 327)    (time, 326)     (get, 332)\n",
       "9   (also, 298)   (time, 325)   (first, 313)  (really, 320)"
      ]
     },
     "metadata": {},
     "output_type": "display_data"
    }
   ],
   "source": [
    "df = pd.DataFrame(list(zip(bookPosFinal,bookNegFinal,dvdPosFinal,dvdNegFinal)))\n",
    "df.columns= ['book Pos', 'book Neg', 'dvd Pos', 'dvd Neg']\n",
    "display(df)"
   ]
  },
  {
   "cell_type": "markdown",
   "metadata": {},
   "source": [
    "As it can be observed the samples holds various words that are the same such as 'one' 'like' 'good' 'time' verifying what was observed from the bar chart. We will continue by doing the same analysis on electronics and kitchen domains."
   ]
  },
  {
   "cell_type": "code",
   "execution_count": 15,
   "metadata": {},
   "outputs": [],
   "source": [
    "from nltk.corpus import stopwords\n",
    "stopwords = stopwords.words('english')\n",
    "\n",
    "electronicsReader = AmazonReviewCorpusReader().category('electronics')\n",
    "electronicsPosTrain, electronicsNegTrain, electronicsPosTest, electronicsNegTest = get_train_test_data(electronicsReader, trainPercentage)\n",
    "\n",
    "kitchenReader = AmazonReviewCorpusReader().category('kitchen')\n",
    "kitchenPosTrain, kitchenNegTrain, kitchenPosTest, kitchenNegTest = get_train_test_data(kitchenReader, trainPercentage)\n",
    "\n",
    "#positive\n",
    "positiveElectronics = electronicsPosTrain + electronicsPosTest\n",
    "positiveKitchen = kitchenPosTrain + kitchenPosTest\n",
    "\n",
    "pElectronics = get_all_words(positiveElectronics)\n",
    "pKitchen = get_all_words(positiveKitchen)\n",
    "\n",
    "electronics_filtered_pos_words = [w.lower() for w in pElectronics if w.isalpha() and w.lower() not in stopwords]\n",
    "kitchen_filtered_pos_words = [w.lower() for w in pKitchen if w.isalpha() and w.lower() not in stopwords]\n",
    "\n",
    "electronics_pos_freqdist = FreqDist(electronics_filtered_pos_words)\n",
    "kitchen_pos_freqdist = FreqDist(kitchen_filtered_pos_words)\n",
    "\n",
    "electronicsPosFinal = electronics_pos_freqdist.most_common(10)\n",
    "kitchenPosFinal = kitchen_pos_freqdist.most_common(10)\n",
    "\n",
    "#negative\n",
    "\n",
    "negativeElectronics = electronicsNegTrain + electronicsNegTest\n",
    "negativeKitchen = kitchenNegTrain + kitchenNegTest\n",
    "\n",
    "nElectronics = get_all_words(negativeElectronics)\n",
    "nKitchen = get_all_words(negativeKitchen)\n",
    "\n",
    "electronics_filtered_neg_words = [w.lower() for w in nElectronics if w.isalpha() and w.lower() not in stopwords]\n",
    "kitchen_filtered_neg_words = [w.lower() for w in nKitchen if w.isalpha() and w.lower() not in stopwords]\n",
    "\n",
    "electronics_neg_freqdist = FreqDist(electronics_filtered_neg_words)\n",
    "kitchen_neg_freqdist = FreqDist(kitchen_filtered_neg_words)\n",
    "\n",
    "electronicsNegFinal = electronics_neg_freqdist.most_common(10)\n",
    "kitchenNegFinal = kitchen_neg_freqdist.most_common(10)"
   ]
  },
  {
   "cell_type": "code",
   "execution_count": 16,
   "metadata": {},
   "outputs": [
    {
     "data": {
      "text/html": [
       "<div>\n",
       "<style scoped>\n",
       "    .dataframe tbody tr th:only-of-type {\n",
       "        vertical-align: middle;\n",
       "    }\n",
       "\n",
       "    .dataframe tbody tr th {\n",
       "        vertical-align: top;\n",
       "    }\n",
       "\n",
       "    .dataframe thead th {\n",
       "        text-align: right;\n",
       "    }\n",
       "</style>\n",
       "<table border=\"1\" class=\"dataframe\">\n",
       "  <thead>\n",
       "    <tr style=\"text-align: right;\">\n",
       "      <th></th>\n",
       "      <th>electronics Pos</th>\n",
       "      <th>electronics Neg</th>\n",
       "      <th>kitchen Pos</th>\n",
       "      <th>kitchen Neg</th>\n",
       "    </tr>\n",
       "  </thead>\n",
       "  <tbody>\n",
       "    <tr>\n",
       "      <th>0</th>\n",
       "      <td>(one, 458)</td>\n",
       "      <td>(one, 478)</td>\n",
       "      <td>(one, 444)</td>\n",
       "      <td>(one, 488)</td>\n",
       "    </tr>\n",
       "    <tr>\n",
       "      <th>1</th>\n",
       "      <td>(use, 444)</td>\n",
       "      <td>(would, 423)</td>\n",
       "      <td>(use, 432)</td>\n",
       "      <td>(would, 356)</td>\n",
       "    </tr>\n",
       "    <tr>\n",
       "      <th>2</th>\n",
       "      <td>(great, 412)</td>\n",
       "      <td>(get, 371)</td>\n",
       "      <td>(great, 389)</td>\n",
       "      <td>(use, 315)</td>\n",
       "    </tr>\n",
       "    <tr>\n",
       "      <th>3</th>\n",
       "      <td>(good, 404)</td>\n",
       "      <td>(work, 336)</td>\n",
       "      <td>(like, 305)</td>\n",
       "      <td>(time, 287)</td>\n",
       "    </tr>\n",
       "    <tr>\n",
       "      <th>4</th>\n",
       "      <td>(sound, 353)</td>\n",
       "      <td>(product, 284)</td>\n",
       "      <td>(easy, 279)</td>\n",
       "      <td>(get, 280)</td>\n",
       "    </tr>\n",
       "    <tr>\n",
       "      <th>5</th>\n",
       "      <td>(like, 287)</td>\n",
       "      <td>(use, 277)</td>\n",
       "      <td>(well, 279)</td>\n",
       "      <td>(like, 247)</td>\n",
       "    </tr>\n",
       "    <tr>\n",
       "      <th>6</th>\n",
       "      <td>(would, 282)</td>\n",
       "      <td>(back, 258)</td>\n",
       "      <td>(would, 273)</td>\n",
       "      <td>(coffee, 238)</td>\n",
       "    </tr>\n",
       "    <tr>\n",
       "      <th>7</th>\n",
       "      <td>(quality, 280)</td>\n",
       "      <td>(bought, 255)</td>\n",
       "      <td>(pan, 245)</td>\n",
       "      <td>(product, 234)</td>\n",
       "    </tr>\n",
       "    <tr>\n",
       "      <th>8</th>\n",
       "      <td>(well, 255)</td>\n",
       "      <td>(time, 253)</td>\n",
       "      <td>(love, 237)</td>\n",
       "      <td>(even, 215)</td>\n",
       "    </tr>\n",
       "    <tr>\n",
       "      <th>9</th>\n",
       "      <td>(get, 254)</td>\n",
       "      <td>(unit, 242)</td>\n",
       "      <td>(time, 234)</td>\n",
       "      <td>(good, 209)</td>\n",
       "    </tr>\n",
       "  </tbody>\n",
       "</table>\n",
       "</div>"
      ],
      "text/plain": [
       "  electronics Pos electronics Neg   kitchen Pos     kitchen Neg\n",
       "0      (one, 458)      (one, 478)    (one, 444)      (one, 488)\n",
       "1      (use, 444)    (would, 423)    (use, 432)    (would, 356)\n",
       "2    (great, 412)      (get, 371)  (great, 389)      (use, 315)\n",
       "3     (good, 404)     (work, 336)   (like, 305)     (time, 287)\n",
       "4    (sound, 353)  (product, 284)   (easy, 279)      (get, 280)\n",
       "5     (like, 287)      (use, 277)   (well, 279)     (like, 247)\n",
       "6    (would, 282)     (back, 258)  (would, 273)   (coffee, 238)\n",
       "7  (quality, 280)   (bought, 255)    (pan, 245)  (product, 234)\n",
       "8     (well, 255)     (time, 253)   (love, 237)     (even, 215)\n",
       "9      (get, 254)     (unit, 242)   (time, 234)     (good, 209)"
      ]
     },
     "metadata": {},
     "output_type": "display_data"
    }
   ],
   "source": [
    "df = pd.DataFrame(list(zip(electronicsPosFinal,electronicsNegFinal,kitchenPosFinal,kitchenNegFinal)))\n",
    "df.columns= ['electronics Pos', 'electronics Neg', 'kitchen Pos', 'kitchen Neg']\n",
    "display(df)"
   ]
  },
  {
   "cell_type": "markdown",
   "metadata": {},
   "source": [
    "Upon review of the most common words in electronics and kitchen we can see that words such as 'one' 'use' and 'great' can be seen on both domains top 10 places which is the reason why the showed such high percentages on our bar chart.\n",
    "\n",
    "## General findings\n",
    "By analysing the similarities of the different categories it can be said that since the words used to describe or review a book and a dvd or a kitchen equipment and electronics are similar, the observations that have been made are accurate and show that. e.g. A book review will use the word 'one' such as '..on one chapter..' and a dvd review will use the word 'one' such as '..on one scene..' which is why the bar chart shows these high values on the said categories."
   ]
  },
  {
   "cell_type": "markdown",
   "metadata": {},
   "source": [
    "## Question 2: Document Similarity and WordNet (30 marks)\n",
    "Lab Topic 4, Part 2 is concerned with methods for measuring document similarity, while Lab Topic 5 explores the WordNet lexical resource and lexical relations. The objective of this question is to investigate whether incorporating lexical knowledge from WordNet might improve document similarity methods.  For example, knowing that both *tiger* and *leopard* are hyponyms of *big_cat* should increase the similarity between a document mentioning a *tiger* and a document mentioning a *leopard*.\n",
    "\n",
    "The code below will generate two document collections, both in bag-of-words format, one from the Medline Corpus and one from the Wall Street Journal corpus."
   ]
  },
  {
   "cell_type": "code",
   "execution_count": 19,
   "metadata": {},
   "outputs": [],
   "source": [
    "from sussex_nltk.corpus_readers import MedlineCorpusReader\n",
    "from sussex_nltk.corpus_readers import WSJCorpusReader\n",
    "from nltk.stem.wordnet import WordNetLemmatizer\n",
    "from nltk.corpus import stopwords\n",
    "from nltk.tokenize import sent_tokenize,word_tokenize\n",
    "\n",
    "def normalise(tokenlist):\n",
    "    tokenlist=[token.lower() for token in tokenlist]\n",
    "    tokenlist=[\"NUM\" if token.isdigit() else token for token in tokenlist]\n",
    "    tokenlist=[\"Nth\" if (token.endswith((\"nd\",\"st\",\"th\")) and token[:-2].isdigit()) else token for token in tokenlist]\n",
    "    tokenlist=[\"NUM\" if re.search(\"^[+-]?[0-9]+\\.[0-9]\",token) else token for token in tokenlist]\n",
    "    return tokenlist\n",
    "\n",
    "def filter_stopwords(tokenlist):\n",
    "    stop = stopwords.words('english')\n",
    "    return [w for w in tokenlist if w.isalpha() and w not in stop]\n",
    "\n",
    "def stem(tokenlist):\n",
    "    st=WordNetLemmatizer()\n",
    "    return [st.lemmatize(token) for token in tokenlist]\n",
    "\n",
    "   \n",
    "def make_bow(somestring):\n",
    "    rep=word_tokenize(somestring)  #step 1\n",
    "    rep=normalise(rep)   #step 2\n",
    "    rep=stem(rep)   #step 3\n",
    "    rep=filter_stopwords(rep)  #step 4\n",
    "    dict_rep={}\n",
    "    for token in rep:\n",
    "        dict_rep[token]=dict_rep.get(token,0)+1  #step 5\n",
    "    return(dict_rep)\n",
    "\n",
    "wsj=WSJCorpusReader()\n",
    "medline=MedlineCorpusReader()\n",
    "\n",
    "collectionsize=50\n",
    "collections={\"wsj\":[],\"medline\":[]}\n",
    "\n",
    "for key in collections.keys():\n",
    "    if key==\"wsj\":\n",
    "        generator=wsj.raw()\n",
    "    else:\n",
    "        generator=medline.raw()\n",
    "    while len(collections[key])<collectionsize:\n",
    "        collections[key].append(next(generator))\n",
    "\n",
    "bow_collections={key:[make_bow(doc) for doc in collection] for key,collection in collections.items()}"
   ]
  },
  {
   "cell_type": "markdown",
   "metadata": {},
   "source": [
    "a). For each step in the `make_bow()` function, **explain** what it does and why it is applicable when creating document representations for document similarity methods. \n",
    "\\[10 marks\\]"
   ]
  },
  {
   "cell_type": "markdown",
   "metadata": {},
   "source": [
    "## Step 1\n",
    "The process in this step is taken by word_tokenize which takes a sentence and returns the tokens of the sentence which can be words or punctuations or even numerical values.\n",
    "## Step 2\n",
    "The process in this step is that normalise 'normalises' each token meaning that any text becomes lowercase if it has any uppercase letters, any numerical data is changed into a string containing 'num' and any ordinal numericals are turned into 'nth' i.e. '1st' turns into 'nth'.\n",
    "## Step 3\n",
    "The process in this step is that stem uses lemmatisation which groups together the inflected formations of any word which would enable them to be analysed as one word rather than n different words. i.e. 'dvds' turns into 'dvd'.\n",
    "## Step 4\n",
    "The process in this step is that filter_stopwords checks if the word or token is in language english.\n",
    "## Step 5\n",
    "The process in this step is that the for loop acts in a way to add all the tokens in a dictionary.\n",
    "\n",
    "All of the prior steps when used, make document similarity easier to the classifier to be used since tokens are in their purest form when make_bow finished working on a document. "
   ]
  },
  {
   "cell_type": "markdown",
   "metadata": {},
   "source": [
    "b). Apply a TF-IDF weighting to the representations and then compute: \n",
    "* the average cosine similarity of medline documents to each other, \n",
    "* the average cosine similarity of WSJ documents to each other,\n",
    "* the average cosine similarity of medline documents to WSJ documents\n",
    "\n",
    "\\[10 marks\\]"
   ]
  },
  {
   "cell_type": "code",
   "execution_count": 22,
   "metadata": {},
   "outputs": [
    {
     "name": "stdout",
     "output_type": "stream",
     "text": [
      "Average similarity of wsj and wsj:  0.043967149445707614\n",
      "Average similarity of wsj and medline:  0.0052102752780698175\n",
      "Average similarity of medline and wsj:  0.0052102752780698106\n",
      "Average similarity of medline and medline:  0.04889556546927367\n"
     ]
    }
   ],
   "source": [
    "from math import log\n",
    "from math import sqrt\n",
    "\n",
    "def idf(doclist):\n",
    "    N = len(doclist)\n",
    "    feat_freqs = doc_freq(doclist)\n",
    "    idfs = {}\n",
    "    for feature, freq in feat_freqs.items():\n",
    "        idfs[feature] = log(N) - log(feat_freqs[feature])\n",
    "    return idfs\n",
    "\n",
    "def convert_to_tfidf(docs, idf_values):\n",
    "    tfidf_docs = []\n",
    "    for doc in docs:\n",
    "        tfidf = {}\n",
    "        for feat,freq in doc.items():\n",
    "            tfidf[feat] = freq * idf_values.get(feat,10*64)\n",
    "        tfidf_docs.append(tfidf)\n",
    "    return tfidf_docs\n",
    "\n",
    "def all_similarities(docs1,docs2):\n",
    "    return [doc_similarities(doc, docs2) for doc in docs1]\n",
    "\n",
    "def doc_similarities(d, docs):\n",
    "    return [cos_sim(d,doc) for doc in docs]\n",
    "\n",
    "def average_similarity(docs1,docs2):\n",
    "    all_sims = all_similarities(docs1, docs2)\n",
    "    sum = 0\n",
    "    for sims in all_sims:\n",
    "        for sim in sims:\n",
    "            sum += sim\n",
    "    return sum/(len(docs1)*len(docs2))\n",
    "\n",
    "def doc_freq(doclist):\n",
    "    '''\n",
    "    Take a list of documents (represented as bags-of-words) and return a dictionary specify how many documents each word occurs in\n",
    "    :doclist: a list of dictionaries mapping String-->int\n",
    "    :return: a dictionary mapping String-->int\n",
    "    '''\n",
    "    df={}\n",
    "    for doc in doclist:\n",
    "        for feat in doc.keys():\n",
    "            df[feat]=df.get(feat,0)+1\n",
    "            \n",
    "    return df\n",
    "\n",
    "def cos_sim(d1,d2):\n",
    "    numerator = dot(d1,d2)\n",
    "    denominator = sqrt(dot(d1,d1)*dot(d2,d2))\n",
    "    return numerator/denominator\n",
    "\n",
    "def dot(d1,d2):\n",
    "    if len(d1) < len(d2):\n",
    "        a = d1\n",
    "        b = d2\n",
    "    else:\n",
    "        a = d2\n",
    "        b = d1\n",
    "    dotproduct = 0\n",
    "    for word,count in a.items():\n",
    "        dotproduct += count * b.get(word,0)\n",
    "    return dotproduct\n",
    "\n",
    "all_docs = bow_collections[\"wsj\"] + bow_collections[\"medline\"]     \n",
    "idf_values = idf(all_docs)                                                           #STEP 1\n",
    "wsj_docs_tfidf = convert_to_tfidf(bow_collections[\"wsj\"], idf_values)                #STEP 2\n",
    "medline_docs_tfidf = convert_to_tfidf(bow_collections[\"medline\"], idf_values)        \n",
    "all_docs_tfidf = {\"wsj\":wsj_docs_tfidf, \"medline\":medline_docs_tfidf}\n",
    "\n",
    "collections = [\"wsj\", \"medline\"]\n",
    "for c1 in collections:\n",
    "    for c2 in collections:\n",
    "        sim = average_similarity(all_docs_tfidf[c1],all_docs_tfidf[c2])             #STEP 3\n",
    "        print(\"Average similarity of {} and {}: \".format(c1,c2), sim)               "
   ]
  },
  {
   "cell_type": "markdown",
   "metadata": {},
   "source": [
    "## Code Rundown\n",
    "Using the above code cell which is from Lab 4_2, the Average similarity of different collections has been computed. \n",
    "To compute the average similarity, first we must calculate idf values which are calculated through converting the list parameter to a dictionary that assigns each token to the frequency of it while also processing a logarithmic formula to add the idf values to the dictionary, then convert the idf values to tfidf values using the bow collection and the idf values given prior and then get the average similarity using the tfidf values which firstly computes all the similarities and the uses the cosine similarity formula to produce the result using the results of all similarities. "
   ]
  },
  {
   "cell_type": "markdown",
   "metadata": {},
   "source": [
    "c). Expand the document representations by adding **synonyms** and **hypernyms** for each **noun** in the document.  For example, 2 occurrences of the word *tiger* should add 2 occurrences of each of the following **lemma_names** found in the WordNet hypernym hierarchy above *tiger*:\n",
    "* \\['tiger', 'Panthera_tigris'\\]\n",
    "* \\['big_cat', 'cat'\\]\n",
    "* \\['feline', 'felid'\\]\n",
    "* \\['carnivore'\\]\n",
    "* \\['placental', 'placental_mammal', 'eutherian', 'eutherian_mammal'\\]\n",
    "* \\['mammal', 'mammalian'\\]\n",
    "* \\['vertebrate', 'craniate'\\]\n",
    "* \\['chordate'\\]\n",
    "* \\['animal', 'animate_being', 'beast', 'brute', 'creature', 'fauna'\\]\n",
    "* \\['organism', 'being'\\]\n",
    "* \\['living_thing', 'animate_thing'\\]\n",
    "* \\['whole', 'unit'\\]\n",
    "* \\['object', 'physical_object'\\]\n",
    "* \\['physical_entity'\\]\n",
    "* \\['entity'\\]\n",
    "\n",
    "Recompute the similarities calculated in part b).  Discuss your results. \\[10 marks\\]"
   ]
  },
  {
   "cell_type": "code",
   "execution_count": null,
   "metadata": {},
   "outputs": [],
   "source": []
  },
  {
   "cell_type": "markdown",
   "metadata": {},
   "source": [
    "## Question 3: Supervised Methods for WSD (35 marks)\n",
    "Lab Topic 6 is concerned with corpus-based methods for word sense disambiguation (WSD). The objective of this question is to build and evaluate a corpus-based, supervised WSD system for words with multiple senses.  "
   ]
  },
  {
   "cell_type": "markdown",
   "metadata": {},
   "source": [
    "a).  For each word occurring in the medline corpus (defined above), **write code** to find how many senses it has according to WordNet.  Print a list of the 10 most frequently occurring words with 2 senses (in this corpus). \\[5 marks\\]"
   ]
  },
  {
   "cell_type": "code",
   "execution_count": 53,
   "metadata": {},
   "outputs": [
    {
     "ename": "ValueError",
     "evalue": "too many values to unpack (expected 2)",
     "output_type": "error",
     "traceback": [
      "\u001b[1;31m---------------------------------------------------------------------------\u001b[0m",
      "\u001b[1;31mValueError\u001b[0m                                Traceback (most recent call last)",
      "\u001b[1;32m<ipython-input-53-6966a6be325f>\u001b[0m in \u001b[0;36m<module>\u001b[1;34m()\u001b[0m\n\u001b[0;32m     15\u001b[0m     \u001b[1;32mreturn\u001b[0m \u001b[0msorted\u001b[0m\u001b[1;33m(\u001b[0m\u001b[0mwords_with_one_sense\u001b[0m\u001b[1;33m,\u001b[0m \u001b[0mkey\u001b[0m\u001b[1;33m=\u001b[0m\u001b[1;32mlambda\u001b[0m \u001b[0mword\u001b[0m\u001b[1;33m:\u001b[0m \u001b[0mword\u001b[0m\u001b[1;33m[\u001b[0m\u001b[1;36m1\u001b[0m\u001b[1;33m]\u001b[0m\u001b[1;33m,\u001b[0m \u001b[0mreverse\u001b[0m\u001b[1;33m=\u001b[0m\u001b[1;32mTrue\u001b[0m\u001b[1;33m)\u001b[0m\u001b[1;33m\u001b[0m\u001b[0m\n\u001b[0;32m     16\u001b[0m \u001b[1;33m\u001b[0m\u001b[0m\n\u001b[1;32m---> 17\u001b[1;33m \u001b[0mtwosenses\u001b[0m\u001b[1;33m(\u001b[0m\u001b[0mbow_collection_medline\u001b[0m\u001b[1;33m)\u001b[0m\u001b[1;33m\u001b[0m\u001b[0m\n\u001b[0m",
      "\u001b[1;32m<ipython-input-53-6966a6be325f>\u001b[0m in \u001b[0;36mtwosenses\u001b[1;34m(sample_sentences)\u001b[0m\n\u001b[0;32m      9\u001b[0m \u001b[1;32mdef\u001b[0m \u001b[0mtwosenses\u001b[0m\u001b[1;33m(\u001b[0m\u001b[0msample_sentences\u001b[0m\u001b[1;33m)\u001b[0m\u001b[1;33m:\u001b[0m\u001b[1;33m\u001b[0m\u001b[0m\n\u001b[0;32m     10\u001b[0m     \u001b[0mwords_with_two_senses\u001b[0m \u001b[1;33m=\u001b[0m \u001b[1;33m[\u001b[0m\u001b[1;33m]\u001b[0m\u001b[1;33m\u001b[0m\u001b[0m\n\u001b[1;32m---> 11\u001b[1;33m     \u001b[1;32mfor\u001b[0m \u001b[0mword\u001b[0m\u001b[1;33m,\u001b[0m \u001b[0mdistribution\u001b[0m \u001b[1;32min\u001b[0m \u001b[0msample_sentences\u001b[0m\u001b[1;33m:\u001b[0m\u001b[1;33m\u001b[0m\u001b[0m\n\u001b[0m\u001b[0;32m     12\u001b[0m         \u001b[1;32mif\u001b[0m \u001b[0mlen\u001b[0m\u001b[1;33m(\u001b[0m\u001b[0mdistribution\u001b[0m\u001b[1;33m)\u001b[0m \u001b[1;33m==\u001b[0m \u001b[1;36m2\u001b[0m\u001b[1;33m:\u001b[0m\u001b[1;33m\u001b[0m\u001b[0m\n\u001b[0;32m     13\u001b[0m             \u001b[0msense\u001b[0m \u001b[1;33m=\u001b[0m \u001b[0mlist\u001b[0m\u001b[1;33m(\u001b[0m\u001b[0mdistribution\u001b[0m\u001b[1;33m)\u001b[0m\u001b[1;33m[\u001b[0m\u001b[1;36m0\u001b[0m\u001b[1;33m]\u001b[0m\u001b[1;33m\u001b[0m\u001b[0m\n",
      "\u001b[1;31mValueError\u001b[0m: too many values to unpack (expected 2)"
     ]
    }
   ],
   "source": [
    "#not working\n",
    "\n",
    "from nltk.corpus import semcor\n",
    "from nltk.corpus import wordnet as wn\n",
    "import nltk\n",
    "import operator\n",
    "import random\n",
    "\n",
    "bow_collection_medline = bow_collections['medline']\n",
    "\n",
    "def twosenses(sample_sentences):\n",
    "    words_with_two_senses = []\n",
    "    for word, distribution in sample_sentences:\n",
    "        if len(distribution) == 2:\n",
    "            sense = list(distribution)[0]\n",
    "            words_with_two_senses.append((word, distribution[sense]))\n",
    "    return sorted(words_with_one_sense, key=lambda word: word[1], reverse=True)\n",
    "\n",
    "twosenses(bow_collection_medline)"
   ]
  },
  {
   "cell_type": "markdown",
   "metadata": {},
   "source": [
    "b). A *supervised* WSD algorithm derives model(s) from *sense-annotated corpus data* in order to predict senses of ambiguous words in un-annotated data.  Using the entire document as context, **implement** a supervised word sense disambiguation algorithm to determine the most likely sense of each occurrence of the 3 most frequently occuring words identified in part a). \\[10 marks\\]"
   ]
  },
  {
   "cell_type": "code",
   "execution_count": null,
   "metadata": {},
   "outputs": [],
   "source": []
  },
  {
   "cell_type": "markdown",
   "metadata": {},
   "source": [
    "c). Evaluate the performance of your WSD system.  How accurate is it for each of the 3 words? **Comment** on the strengths and weaknesses of your WSD system. \\[10 marks\\] "
   ]
  },
  {
   "cell_type": "markdown",
   "metadata": {},
   "source": [
    "## Strengths\n",
    "Naive Bayes gives us precise statistical results which are far superior to using any other methods.\n",
    "\n",
    "## Weaknesses\n",
    "Using this WSD requires a lot of computing power as it is cumbersome to browse through the whole annotated corpus"
   ]
  },
  {
   "cell_type": "markdown",
   "metadata": {},
   "source": [
    "d) How could you extend or improve your WSD system?  You are **not** expected to code any of these extensions or improvements, but your answer should give sufficient details to make it clear how they might be carried out in practice. \\[10 marks\\]"
   ]
  },
  {
   "cell_type": "markdown",
   "metadata": {},
   "source": [
    "## Improvements\n",
    "Even though it is very hard to improve the WSD system, some changes that may improve partly by the introduction of Bootstrapping with some improvements in accuracy and precision. Another way of improving our WSD is by increasing our training data which would provide better results at the end. \n"
   ]
  },
  {
   "cell_type": "markdown",
   "metadata": {},
   "source": [
    "You can use the code below to verify that the length of your submission (i.e. written answers in Markdown cell) does not exceed 3000 words. To do this, you need to change the value of `filepath` so that it is set to the file location of your notebook. Note that the written questions in this notebook have a total wordcount of 1087. This is taken into account by the code below so that running the code will only show the wordcount of additional written answers in Markdown cells. "
   ]
  },
  {
   "cell_type": "code",
   "execution_count": 54,
   "metadata": {},
   "outputs": [
    {
     "name": "stdout",
     "output_type": "stream",
     "text": [
      "Submission length is 1294\n"
     ]
    }
   ],
   "source": [
    "##This code will word count all of the markdown cells in the notebook saved at filepath\n",
    "##Running it before providing any answers shows that the questions have a word count of 1087\n",
    "\n",
    "import io\n",
    "from nbformat import current\n",
    "\n",
    "filepath = 'C:/Users/Andreas/Desktop/ANLP/Assignment/ANLP1819_Assignment.ipynb'\n",
    "\n",
    "question_count=1087\n",
    "\n",
    "with io.open(filepath, 'r', encoding='utf-8') as f:\n",
    "    nb = current.read(f, 'json')\n",
    "\n",
    "word_count = 0\n",
    "for cell in nb.worksheets[0].cells:\n",
    "    if cell.cell_type == \"markdown\":\n",
    "        word_count += len(cell['source'].replace('#', '').lstrip().split(' '))\n",
    "print(\"Submission length is {}\".format(word_count-question_count))"
   ]
  },
  {
   "cell_type": "code",
   "execution_count": null,
   "metadata": {},
   "outputs": [],
   "source": []
  },
  {
   "cell_type": "code",
   "execution_count": null,
   "metadata": {},
   "outputs": [],
   "source": []
  }
 ],
 "metadata": {
  "kernelspec": {
   "display_name": "Python 3",
   "language": "python",
   "name": "python3"
  },
  "language_info": {
   "codemirror_mode": {
    "name": "ipython",
    "version": 3
   },
   "file_extension": ".py",
   "mimetype": "text/x-python",
   "name": "python",
   "nbconvert_exporter": "python",
   "pygments_lexer": "ipython3",
   "version": "3.6.5"
  }
 },
 "nbformat": 4,
 "nbformat_minor": 2
}
